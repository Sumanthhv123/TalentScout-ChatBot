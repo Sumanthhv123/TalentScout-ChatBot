{
  "nbformat": 4,
  "nbformat_minor": 0,
  "metadata": {
    "colab": {
      "provenance": []
    },
    "kernelspec": {
      "name": "python3",
      "display_name": "Python 3"
    },
    "language_info": {
      "name": "python"
    }
  },
  "cells": [
    {
      "cell_type": "code",
      "source": [
        "# Install dependencies\n",
        "!pip install gradio openai fpdf"
      ],
      "metadata": {
        "colab": {
          "base_uri": "https://localhost:8080/"
        },
        "id": "jF1HDWzCnzvx",
        "outputId": "e4a0d29a-8657-49be-e984-e4c5ede69e99"
      },
      "execution_count": 6,
      "outputs": [
        {
          "output_type": "stream",
          "name": "stdout",
          "text": [
            "Requirement already satisfied: gradio in /usr/local/lib/python3.11/dist-packages (5.31.0)\n",
            "Requirement already satisfied: openai in /usr/local/lib/python3.11/dist-packages (1.84.0)\n",
            "Requirement already satisfied: fpdf in /usr/local/lib/python3.11/dist-packages (1.7.2)\n",
            "Requirement already satisfied: aiofiles<25.0,>=22.0 in /usr/local/lib/python3.11/dist-packages (from gradio) (24.1.0)\n",
            "Requirement already satisfied: anyio<5.0,>=3.0 in /usr/local/lib/python3.11/dist-packages (from gradio) (4.9.0)\n",
            "Requirement already satisfied: fastapi<1.0,>=0.115.2 in /usr/local/lib/python3.11/dist-packages (from gradio) (0.115.12)\n",
            "Requirement already satisfied: ffmpy in /usr/local/lib/python3.11/dist-packages (from gradio) (0.6.0)\n",
            "Requirement already satisfied: gradio-client==1.10.1 in /usr/local/lib/python3.11/dist-packages (from gradio) (1.10.1)\n",
            "Requirement already satisfied: groovy~=0.1 in /usr/local/lib/python3.11/dist-packages (from gradio) (0.1.2)\n",
            "Requirement already satisfied: httpx>=0.24.1 in /usr/local/lib/python3.11/dist-packages (from gradio) (0.28.1)\n",
            "Requirement already satisfied: huggingface-hub>=0.28.1 in /usr/local/lib/python3.11/dist-packages (from gradio) (0.32.4)\n",
            "Requirement already satisfied: jinja2<4.0 in /usr/local/lib/python3.11/dist-packages (from gradio) (3.1.6)\n",
            "Requirement already satisfied: markupsafe<4.0,>=2.0 in /usr/local/lib/python3.11/dist-packages (from gradio) (3.0.2)\n",
            "Requirement already satisfied: numpy<3.0,>=1.0 in /usr/local/lib/python3.11/dist-packages (from gradio) (2.0.2)\n",
            "Requirement already satisfied: orjson~=3.0 in /usr/local/lib/python3.11/dist-packages (from gradio) (3.10.18)\n",
            "Requirement already satisfied: packaging in /usr/local/lib/python3.11/dist-packages (from gradio) (24.2)\n",
            "Requirement already satisfied: pandas<3.0,>=1.0 in /usr/local/lib/python3.11/dist-packages (from gradio) (2.2.2)\n",
            "Requirement already satisfied: pillow<12.0,>=8.0 in /usr/local/lib/python3.11/dist-packages (from gradio) (11.2.1)\n",
            "Requirement already satisfied: pydantic<2.12,>=2.0 in /usr/local/lib/python3.11/dist-packages (from gradio) (2.11.5)\n",
            "Requirement already satisfied: pydub in /usr/local/lib/python3.11/dist-packages (from gradio) (0.25.1)\n",
            "Requirement already satisfied: python-multipart>=0.0.18 in /usr/local/lib/python3.11/dist-packages (from gradio) (0.0.20)\n",
            "Requirement already satisfied: pyyaml<7.0,>=5.0 in /usr/local/lib/python3.11/dist-packages (from gradio) (6.0.2)\n",
            "Requirement already satisfied: ruff>=0.9.3 in /usr/local/lib/python3.11/dist-packages (from gradio) (0.11.12)\n",
            "Requirement already satisfied: safehttpx<0.2.0,>=0.1.6 in /usr/local/lib/python3.11/dist-packages (from gradio) (0.1.6)\n",
            "Requirement already satisfied: semantic-version~=2.0 in /usr/local/lib/python3.11/dist-packages (from gradio) (2.10.0)\n",
            "Requirement already satisfied: starlette<1.0,>=0.40.0 in /usr/local/lib/python3.11/dist-packages (from gradio) (0.46.2)\n",
            "Requirement already satisfied: tomlkit<0.14.0,>=0.12.0 in /usr/local/lib/python3.11/dist-packages (from gradio) (0.13.2)\n",
            "Requirement already satisfied: typer<1.0,>=0.12 in /usr/local/lib/python3.11/dist-packages (from gradio) (0.16.0)\n",
            "Requirement already satisfied: typing-extensions~=4.0 in /usr/local/lib/python3.11/dist-packages (from gradio) (4.14.0)\n",
            "Requirement already satisfied: uvicorn>=0.14.0 in /usr/local/lib/python3.11/dist-packages (from gradio) (0.34.3)\n",
            "Requirement already satisfied: fsspec in /usr/local/lib/python3.11/dist-packages (from gradio-client==1.10.1->gradio) (2025.3.2)\n",
            "Requirement already satisfied: websockets<16.0,>=10.0 in /usr/local/lib/python3.11/dist-packages (from gradio-client==1.10.1->gradio) (15.0.1)\n",
            "Requirement already satisfied: distro<2,>=1.7.0 in /usr/local/lib/python3.11/dist-packages (from openai) (1.9.0)\n",
            "Requirement already satisfied: jiter<1,>=0.4.0 in /usr/local/lib/python3.11/dist-packages (from openai) (0.10.0)\n",
            "Requirement already satisfied: sniffio in /usr/local/lib/python3.11/dist-packages (from openai) (1.3.1)\n",
            "Requirement already satisfied: tqdm>4 in /usr/local/lib/python3.11/dist-packages (from openai) (4.67.1)\n",
            "Requirement already satisfied: idna>=2.8 in /usr/local/lib/python3.11/dist-packages (from anyio<5.0,>=3.0->gradio) (3.10)\n",
            "Requirement already satisfied: certifi in /usr/local/lib/python3.11/dist-packages (from httpx>=0.24.1->gradio) (2025.4.26)\n",
            "Requirement already satisfied: httpcore==1.* in /usr/local/lib/python3.11/dist-packages (from httpx>=0.24.1->gradio) (1.0.9)\n",
            "Requirement already satisfied: h11>=0.16 in /usr/local/lib/python3.11/dist-packages (from httpcore==1.*->httpx>=0.24.1->gradio) (0.16.0)\n",
            "Requirement already satisfied: filelock in /usr/local/lib/python3.11/dist-packages (from huggingface-hub>=0.28.1->gradio) (3.18.0)\n",
            "Requirement already satisfied: requests in /usr/local/lib/python3.11/dist-packages (from huggingface-hub>=0.28.1->gradio) (2.32.3)\n",
            "Requirement already satisfied: hf-xet<2.0.0,>=1.1.2 in /usr/local/lib/python3.11/dist-packages (from huggingface-hub>=0.28.1->gradio) (1.1.2)\n",
            "Requirement already satisfied: python-dateutil>=2.8.2 in /usr/local/lib/python3.11/dist-packages (from pandas<3.0,>=1.0->gradio) (2.9.0.post0)\n",
            "Requirement already satisfied: pytz>=2020.1 in /usr/local/lib/python3.11/dist-packages (from pandas<3.0,>=1.0->gradio) (2025.2)\n",
            "Requirement already satisfied: tzdata>=2022.7 in /usr/local/lib/python3.11/dist-packages (from pandas<3.0,>=1.0->gradio) (2025.2)\n",
            "Requirement already satisfied: annotated-types>=0.6.0 in /usr/local/lib/python3.11/dist-packages (from pydantic<2.12,>=2.0->gradio) (0.7.0)\n",
            "Requirement already satisfied: pydantic-core==2.33.2 in /usr/local/lib/python3.11/dist-packages (from pydantic<2.12,>=2.0->gradio) (2.33.2)\n",
            "Requirement already satisfied: typing-inspection>=0.4.0 in /usr/local/lib/python3.11/dist-packages (from pydantic<2.12,>=2.0->gradio) (0.4.1)\n",
            "Requirement already satisfied: click>=8.0.0 in /usr/local/lib/python3.11/dist-packages (from typer<1.0,>=0.12->gradio) (8.2.1)\n",
            "Requirement already satisfied: shellingham>=1.3.0 in /usr/local/lib/python3.11/dist-packages (from typer<1.0,>=0.12->gradio) (1.5.4)\n",
            "Requirement already satisfied: rich>=10.11.0 in /usr/local/lib/python3.11/dist-packages (from typer<1.0,>=0.12->gradio) (13.9.4)\n",
            "Requirement already satisfied: six>=1.5 in /usr/local/lib/python3.11/dist-packages (from python-dateutil>=2.8.2->pandas<3.0,>=1.0->gradio) (1.17.0)\n",
            "Requirement already satisfied: markdown-it-py>=2.2.0 in /usr/local/lib/python3.11/dist-packages (from rich>=10.11.0->typer<1.0,>=0.12->gradio) (3.0.0)\n",
            "Requirement already satisfied: pygments<3.0.0,>=2.13.0 in /usr/local/lib/python3.11/dist-packages (from rich>=10.11.0->typer<1.0,>=0.12->gradio) (2.19.1)\n",
            "Requirement already satisfied: charset-normalizer<4,>=2 in /usr/local/lib/python3.11/dist-packages (from requests->huggingface-hub>=0.28.1->gradio) (3.4.2)\n",
            "Requirement already satisfied: urllib3<3,>=1.21.1 in /usr/local/lib/python3.11/dist-packages (from requests->huggingface-hub>=0.28.1->gradio) (2.4.0)\n",
            "Requirement already satisfied: mdurl~=0.1 in /usr/local/lib/python3.11/dist-packages (from markdown-it-py>=2.2.0->rich>=10.11.0->typer<1.0,>=0.12->gradio) (0.1.2)\n"
          ]
        }
      ]
    },
    {
      "cell_type": "code",
      "source": [
        "import gradio as gr\n",
        "import openai\n",
        "import re\n",
        "from fpdf import FPDF\n",
        "import tempfile\n",
        "import os"
      ],
      "metadata": {
        "id": "2QPFEKlPr48Y"
      },
      "execution_count": 7,
      "outputs": []
    },
    {
      "cell_type": "code",
      "source": [
        "openai.api_key = \"OPENAI_API_KEY\""
      ],
      "metadata": {
        "id": "MdSbj4txXMg_"
      },
      "execution_count": 16,
      "outputs": []
    },
    {
      "cell_type": "code",
      "source": [
        "VALID_COUNTRY_CODES = {\n",
        "    \"+1\", \"+7\", \"+20\", \"+27\", \"+30\", \"+31\", \"+32\", \"+33\", \"+34\", \"+36\", \"+39\", \"+40\", \"+41\", \"+43\", \"+44\", \"+45\", \"+46\", \"+47\", \"+48\", \"+49\",\n",
        "    \"+51\", \"+52\", \"+53\", \"+54\", \"+55\", \"+56\", \"+57\", \"+58\", \"+60\", \"+61\", \"+62\", \"+63\", \"+64\", \"+65\", \"+66\", \"+81\", \"+82\", \"+84\", \"+86\", \"+90\",\n",
        "    \"+91\", \"+92\", \"+93\", \"+94\", \"+95\", \"+98\", \"+211\", \"+212\", \"+213\", \"+216\", \"+218\", \"+220\", \"+221\", \"+222\", \"+223\", \"+224\", \"+225\", \"+226\",\n",
        "    \"+227\", \"+228\", \"+229\", \"+230\", \"+231\", \"+232\", \"+233\", \"+234\", \"+235\", \"+236\", \"+237\", \"+238\", \"+239\", \"+240\", \"+241\", \"+242\", \"+243\",\n",
        "    \"+244\", \"+245\", \"+246\", \"+248\", \"+249\", \"+250\", \"+251\", \"+252\", \"+253\", \"+254\", \"+255\", \"+256\", \"+257\", \"+258\", \"+260\", \"+261\", \"+262\",\n",
        "    \"+263\", \"+264\", \"+265\", \"+266\", \"+267\", \"+268\", \"+269\", \"+290\", \"+291\", \"+297\", \"+298\", \"+299\", \"+350\", \"+351\", \"+352\", \"+353\", \"+354\",\n",
        "    \"+355\", \"+356\", \"+357\", \"+358\", \"+359\", \"+370\", \"+371\", \"+372\", \"+373\", \"+374\", \"+375\", \"+376\", \"+377\", \"+378\", \"+380\", \"+381\", \"+382\",\n",
        "    \"+383\", \"+385\", \"+386\", \"+387\", \"+389\", \"+420\", \"+421\", \"+423\", \"+500\", \"+501\", \"+502\", \"+503\", \"+504\", \"+505\", \"+506\", \"+507\", \"+508\",\n",
        "    \"+509\", \"+590\", \"+591\", \"+592\", \"+593\", \"+594\", \"+595\", \"+596\", \"+597\", \"+598\", \"+599\", \"+670\", \"+672\", \"+673\", \"+674\", \"+675\", \"+676\",\n",
        "    \"+677\", \"+678\", \"+679\", \"+680\", \"+681\", \"+682\", \"+683\", \"+685\", \"+686\", \"+687\", \"+688\", \"+689\", \"+690\", \"+691\", \"+692\", \"+850\", \"+852\",\n",
        "    \"+853\", \"+855\", \"+856\", \"+870\", \"+871\", \"+872\", \"+873\", \"+874\", \"+878\", \"+880\", \"+881\", \"+882\", \"+883\", \"+886\", \"+960\", \"+961\", \"+962\",\n",
        "    \"+963\", \"+964\", \"+965\", \"+966\", \"+967\", \"+968\", \"+970\", \"+971\", \"+972\", \"+973\", \"+974\", \"+975\", \"+976\", \"+977\", \"+992\", \"+993\", \"+994\",\n",
        "    \"+995\", \"+996\", \"+998\"\n",
        "}"
      ],
      "metadata": {
        "id": "6Re3BO-uX7vv"
      },
      "execution_count": 17,
      "outputs": []
    },
    {
      "cell_type": "code",
      "source": [
        "QUESTIONS = [\n",
        "    {\"label\": \"👤 What is your full name?\", \"key\": \"name\"},\n",
        "    {\"label\": \"📧 What is your email address?\", \"key\": \"email\"},\n",
        "    {\"label\": \"🌐 Enter your country code (e.g., +91, +1, +44):\", \"key\": \"country_code\"},\n",
        "    {\"label\": \"📱 Enter your phone number (10 digits, no country code):\", \"key\": \"phone\"},\n",
        "    {\"label\": \"💼 How many years of professional experience do you have?\", \"key\": \"experience\"},\n",
        "    {\"label\": \"🧑‍💻 For which role(s) have you worked during these years?\", \"key\": \"roles\"},\n",
        "    {\"label\": \"📂 Can you briefly describe one or more projects you worked on in this role? Please provide a link (GitHub, portfolio, etc.) if available.\", \"key\": \"projects\"},\n",
        "    {\"label\": \"🎯 Which position(s) are you applying for?\", \"key\": \"position\"},\n",
        "    {\"label\": \"📍 Where are you currently located?\", \"key\": \"location\"},\n",
        "    {\"label\": \"🛠️ Please list your tech stack (e.g., Python, Django, React, C++, Node.js, C#):\", \"key\": \"tech_stack\"},\n",
        "    # Python libraries will be inserted dynamically if needed\n",
        "]\n",
        "\n",
        "PYTHON_LIBS_QUESTION = {\n",
        "    \"label\": (\n",
        "        \"🐍 You mentioned Python. Which Python data science or machine learning libraries have you used? \"\n",
        "        \"(e.g., Pandas, NumPy, TensorFlow, PyTorch, SciPy, Keras, Scikit-learn, Matplotlib, Seaborn, OpenCV, Plotly, XGBoost, LightGBM, Theano, NLTK, SpaCy, etc.)\"\n",
        "    ),\n",
        "    \"key\": \"python_libraries\"\n",
        "}"
      ],
      "metadata": {
        "id": "NSzxj3LBX85-"
      },
      "execution_count": 18,
      "outputs": []
    },
    {
      "cell_type": "code",
      "source": [
        "def validate_input(answer, step, data, python_libs_needed):\n",
        "    if step == 0:  # Name\n",
        "        if not re.fullmatch(r\"[A-Za-z ]+\", answer.strip()):\n",
        "            return False, \"Name must contain only alphabets and spaces. Please enter your full name.\"\n",
        "    elif step == 1:  # Email\n",
        "        if not re.fullmatch(r\"[A-Za-z0-9._%+-]+@[A-Za-z0-9.-]+\\.com\", answer.strip()):\n",
        "            return False, \"Email must be valid and end with .com. Please enter a valid email address.\"\n",
        "    elif step == 2:  # Country code\n",
        "        if answer.strip() not in VALID_COUNTRY_CODES:\n",
        "            return False, \"Invalid country code. Please enter a valid country code (e.g., +91, +1, +44).\"\n",
        "    elif step == 3:  # Phone number (10 digits)\n",
        "        if not re.fullmatch(r\"\\d{10}$\", answer.strip()):\n",
        "            return False, \"Phone number must be exactly 10 digits (no country code).\"\n",
        "    elif step == 4:  # Experience\n",
        "        if not re.fullmatch(r\"\\d+\", answer.strip()):\n",
        "            return False, \"Experience must be a number (in years). Please enter your years of experience.\"\n",
        "    elif step == 5:  # Roles\n",
        "        if not answer.strip():\n",
        "            return False, \"Please specify the role(s) you have worked in.\"\n",
        "    elif step == 6:  # Projects\n",
        "        if not answer.strip():\n",
        "            return False, \"Please describe at least one project and provide a link if available.\"\n",
        "    elif step == 7:  # Position\n",
        "        if not re.fullmatch(r\"[A-Za-z ]+\", answer.strip()):\n",
        "            return False, \"Position must contain only alphabets and spaces. Please enter the position(s).\"\n",
        "    elif step == 8:  # Location\n",
        "        if not re.fullmatch(r\"[A-Za-z ]+\", answer.strip()):\n",
        "            return False, \"Location must contain only alphabets and spaces. Please enter your location.\"\n",
        "    elif step == 9:  # Tech Stack\n",
        "        if not re.fullmatch(r\"[A-Za-z0-9, .#+-]+\", answer.strip()):\n",
        "            return False, \"Tech stack must contain only alphabets, numbers, spaces, commas, periods, plus, or hash (e.g., Python, C++, C#, Node.js).\"\n",
        "    elif python_libs_needed and step == 10:  # Python Libraries\n",
        "        if not answer.strip():\n",
        "            return False, \"Please specify at least one Python data science or ML library.\"\n",
        "    return True, \"\"\n"
      ],
      "metadata": {
        "id": "ZJIbW6n9X838"
      },
      "execution_count": 19,
      "outputs": []
    },
    {
      "cell_type": "code",
      "source": [
        "def generate_technical_questions(tech_stack):\n",
        "    prompt = (\n",
        "        f\"Generate 3 technical interview questions for each of the following technologies: {tech_stack}. \"\n",
        "        \"Format as numbered questions.\"\n",
        "    )\n",
        "    response = openai.ChatCompletion.create(\n",
        "        model=\"gpt-3.5-turbo\",\n",
        "        messages=[\n",
        "            {\"role\": \"system\", \"content\": \"You are an expert technical interviewer.\"},\n",
        "            {\"role\": \"user\", \"content\": prompt}\n",
        "        ]\n",
        "    )\n",
        "    return response.choices[0].message.content"
      ],
      "metadata": {
        "id": "DTL5rsOzX812"
      },
      "execution_count": 20,
      "outputs": []
    },
    {
      "cell_type": "code",
      "source": [
        "def create_pdf(data):\n",
        "    pdf = FPDF()\n",
        "    pdf.add_page()\n",
        "    pdf.set_font(\"Arial\", size=12)\n",
        "    pdf.cell(200, 10, \"TalentScout Candidate Summary\", ln=True, align=\"C\")\n",
        "    pdf.ln(8)\n",
        "    for key, value in data.items():\n",
        "        label = key.replace(\"_\", \" \").title()\n",
        "        pdf.multi_cell(0, 10, f\"{label}:\\n{value}\\n\", align=\"L\")\n",
        "    temp = tempfile.NamedTemporaryFile(delete=False, suffix=\".pdf\")\n",
        "    pdf.output(temp.name)\n",
        "    temp.close()\n",
        "    return temp.name"
      ],
      "metadata": {
        "id": "YVTqcZpXX8zc"
      },
      "execution_count": 21,
      "outputs": []
    },
    {
      "cell_type": "code",
      "source": [
        "def chatbot(user_message, chat_history, step, data, python_libs_needed, ended, pdf_path):\n",
        "    user_message_clean = user_message.strip().lower() if user_message else \"\"\n",
        "    if user_message_clean in [\"end\", \"exit\", \"quit\", \"bye\"]:\n",
        "        chat_history.append({\"role\": \"user\", \"content\": user_message})\n",
        "        chat_history.append({\"role\": \"assistant\", \"content\": \"🌈 Thank you for your time!\\n\\nType **start** to begin again or download your summary PDF below.\"})\n",
        "        return \"\", chat_history, step, data, python_libs_needed, True, pdf_path\n",
        "    if user_message_clean == \"start\":\n",
        "        chat_history.append({\"role\": \"user\", \"content\": user_message})\n",
        "        chat_history.append({\"role\": \"assistant\", \"content\": QUESTIONS[0][\"label\"]})\n",
        "        return \"\", chat_history, 0, {}, False, False, None\n",
        "    if ended:\n",
        "        chat_history.append({\"role\": \"user\", \"content\": user_message})\n",
        "        chat_history.append({\"role\": \"assistant\", \"content\": \"Type **start** to begin the screening process again or download your PDF below.\"})\n",
        "        return \"\", chat_history, step, data, python_libs_needed, ended, pdf_path\n",
        "\n",
        "    # If we're at the Python libraries question\n",
        "    if step == 10 and python_libs_needed:\n",
        "        is_valid, error_msg = validate_input(user_message, step, data, python_libs_needed)\n",
        "        if not is_valid:\n",
        "            chat_history.append({\"role\": \"user\", \"content\": user_message})\n",
        "            chat_history.append({\"role\": \"assistant\", \"content\": f\"❗ {error_msg} {PYTHON_LIBS_QUESTION['label']}\"})\n",
        "            return \"\", chat_history, step, data, python_libs_needed, ended, pdf_path\n",
        "        data[PYTHON_LIBS_QUESTION[\"key\"]] = user_message\n",
        "        chat_history.append({\"role\": \"user\", \"content\": user_message})\n",
        "        # All done, generate tech questions and PDF\n",
        "        tech_stack = data.get(\"tech_stack\", \"\")\n",
        "        try:\n",
        "            tech_qs = generate_technical_questions(tech_stack)\n",
        "            chat_history.append({\"role\": \"assistant\", \"content\": \"🎯 **Thank you! Here are your technical questions:**\\n\\n\" + tech_qs})\n",
        "        except Exception as e:\n",
        "            chat_history.append({\"role\": \"assistant\", \"content\": f\"❗ Sorry, there was an error generating technical questions: {e}.\"})\n",
        "        pdf_file = create_pdf(data)\n",
        "        chat_history.append({\"role\": \"assistant\", \"content\": \"📄 Click the button below to download your candidate summary as a PDF.\"})\n",
        "        return \"\", chat_history, step+1, data, False, True, pdf_file\n",
        "\n",
        "    # Normal flow\n",
        "    is_valid, error_msg = validate_input(user_message, step, data, python_libs_needed)\n",
        "    if not is_valid:\n",
        "        chat_history.append({\"role\": \"user\", \"content\": user_message})\n",
        "        label = PYTHON_LIBS_QUESTION[\"label\"] if (python_libs_needed and step == 10) else QUESTIONS[step][\"label\"]\n",
        "        chat_history.append({\"role\": \"assistant\", \"content\": f\"❗ {error_msg} {label}\"})\n",
        "        return \"\", chat_history, step, data, python_libs_needed, ended, pdf_path\n",
        "\n",
        "    # Save answer and advance\n",
        "    if step < len(QUESTIONS):\n",
        "        data[QUESTIONS[step][\"key\"]] = user_message\n",
        "        chat_history.append({\"role\": \"user\", \"content\": user_message})\n",
        "        step += 1\n",
        "        # After tech stack, check for Python\n",
        "        if step == 10:\n",
        "            tech_stack = data.get(\"tech_stack\", \"\")\n",
        "            if \"python\" in tech_stack.lower():\n",
        "                chat_history.append({\"role\": \"assistant\", \"content\": PYTHON_LIBS_QUESTION[\"label\"]})\n",
        "                return \"\", chat_history, step, data, True, ended, pdf_path\n",
        "        if step < len(QUESTIONS):\n",
        "            next_q = QUESTIONS[step][\"label\"]\n",
        "            chat_history.append({\"role\": \"assistant\", \"content\": next_q})\n",
        "            return \"\", chat_history, step, data, python_libs_needed, ended, pdf_path\n",
        "        else:\n",
        "            # All done, generate tech questions and PDF\n",
        "            tech_stack = data.get(\"tech_stack\", \"\")\n",
        "            try:\n",
        "                tech_qs = generate_technical_questions(tech_stack)\n",
        "                chat_history.append({\"role\": \"assistant\", \"content\": \"🎯 **Thank you! Here are your technical questions:**\\n\\n\" + tech_qs})\n",
        "            except Exception as e:\n",
        "                chat_history.append({\"role\": \"assistant\", \"content\": f\"❗ Sorry, there was an error generating technical questions: {e}.\"})\n",
        "            pdf_file = create_pdf(data)\n",
        "            chat_history.append({\"role\": \"assistant\", \"content\": \"📄 Click the button below to download your candidate summary as a PDF.\"})\n",
        "            return \"\", chat_history, step, data, False, True, pdf_file\n",
        "    else:\n",
        "        chat_history.append({\"role\": \"user\", \"content\": user_message})\n",
        "        chat_history.append({\"role\": \"assistant\", \"content\": \"🎉 **Thank you for completing the initial screening!**\\n\\nOur team will review your responses and contact you for next steps.\"})\n",
        "        return \"\", chat_history, 0, {}, False, ended, pdf_path"
      ],
      "metadata": {
        "id": "4_40h3wxX8xX"
      },
      "execution_count": 22,
      "outputs": []
    },
    {
      "cell_type": "code",
      "source": [
        "def download_pdf(pdf_path):\n",
        "    if pdf_path and os.path.exists(pdf_path):\n",
        "        return pdf_path\n",
        "    return None\n",
        "\n",
        "with gr.Blocks(theme=gr.themes.Glass(), css=\"\"\"\n",
        "body {\n",
        "    background: linear-gradient(135deg, #e0c3fc 0%, #8ec5fc 100%) !important;\n",
        "}\n",
        "\"\"\") as demo:\n",
        "    gr.HTML(\n",
        "        \"\"\"\n",
        "        <div style='display:flex;align-items:center;gap:1em;'>\n",
        "            <img id=\"logo\" src=\"https://cdn-icons-png.flaticon.com/512/4712/4712027.png\" height=\"60\">\n",
        "            <div>\n",
        "                <h1 style='margin-bottom:0;color:#6366f1;'>TalentScout Hiring Assistant 🤖</h1>\n",
        "                <p style='margin-top:0;font-size:1.1em;color:#6366f1;'>Your AI-powered candidate screener</p>\n",
        "            </div>\n",
        "        </div>\n",
        "        \"\"\")\n",
        "    gr.Markdown(\n",
        "        \"\"\"\n",
        "<span style=\"color:#6366f1;font-weight:bold;\">Welcome!</span>\n",
        "I will guide you through the initial screening process.<br>\n",
        "Type <span style=\"color:#16a34a;font-weight:bold;\">end</span> at any time to finish and <span style=\"color:#6366f1;font-weight:bold;\">start</span> to begin again.\n",
        "        \"\"\"\n",
        "    )\n",
        "    chatbot_ui = gr.Chatbot(type=\"messages\", label=\"TalentScout Chat\", avatar_images=(\"https://cdn-icons-png.flaticon.com/512/4712/4712027.png\", None))\n",
        "    msg = gr.Textbox(placeholder=\"Type your answer here...\", label=\"Your Answer\")\n",
        "    pdf_btn = gr.Button(\"Download PDF\", visible=False)\n",
        "    pdf_file = gr.File(label=\"Your Candidate Summary PDF\", visible=False)\n",
        "    clear = gr.ClearButton([msg, chatbot_ui])\n",
        "    state_step = gr.State(0)\n",
        "    state_data = gr.State({})\n",
        "    state_python_libs_needed = gr.State(False)\n",
        "    state_ended = gr.State(False)\n",
        "    state_pdf_path = gr.State(None)\n",
        "\n",
        "    def initial_history():\n",
        "        return [{\"role\": \"assistant\", \"content\": QUESTIONS[0][\"label\"]}]\n",
        "\n",
        "    def update_pdf_btn(pdf_path, ended):\n",
        "        return gr.update(visible=bool(pdf_path and ended))\n",
        "\n",
        "    def update_pdf_file(pdf_path):\n",
        "        return gr.update(value=pdf_path, visible=True)\n",
        "\n",
        "    msg.submit(\n",
        "        chatbot,\n",
        "        [msg, chatbot_ui, state_step, state_data, state_python_libs_needed, state_ended, state_pdf_path],\n",
        "        [msg, chatbot_ui, state_step, state_data, state_python_libs_needed, state_ended, state_pdf_path],\n",
        "        queue=False\n",
        "    )\n",
        "    demo.load(lambda: (\"\", initial_history(), 0, {}, False, False, None), outputs=[msg, chatbot_ui, state_step, state_data, state_python_libs_needed, state_ended, state_pdf_path])\n",
        "    pdf_btn.click(download_pdf, [state_pdf_path], [pdf_file])\n",
        "    state_pdf_path.change(update_pdf_btn, [state_pdf_path, state_ended], [pdf_btn])\n",
        "\n",
        "demo.launch()\n"
      ],
      "metadata": {
        "colab": {
          "base_uri": "https://localhost:8080/",
          "height": 645
        },
        "id": "wcDlrtctX8vS",
        "outputId": "68e899f6-863f-414c-90c8-5a7213ab67bf"
      },
      "execution_count": 23,
      "outputs": [
        {
          "output_type": "stream",
          "name": "stdout",
          "text": [
            "It looks like you are running Gradio on a hosted a Jupyter notebook. For the Gradio app to work, sharing must be enabled. Automatically setting `share=True` (you can turn this off by setting `share=False` in `launch()` explicitly).\n",
            "\n",
            "Colab notebook detected. To show errors in colab notebook, set debug=True in launch()\n",
            "* Running on public URL: https://5946344b2b587d3f1e.gradio.live\n",
            "\n",
            "This share link expires in 1 week. For free permanent hosting and GPU upgrades, run `gradio deploy` from the terminal in the working directory to deploy to Hugging Face Spaces (https://huggingface.co/spaces)\n"
          ]
        },
        {
          "output_type": "display_data",
          "data": {
            "text/plain": [
              "<IPython.core.display.HTML object>"
            ],
            "text/html": [
              "<div><iframe src=\"https://5946344b2b587d3f1e.gradio.live\" width=\"100%\" height=\"500\" allow=\"autoplay; camera; microphone; clipboard-read; clipboard-write;\" frameborder=\"0\" allowfullscreen></iframe></div>"
            ]
          },
          "metadata": {}
        },
        {
          "output_type": "execute_result",
          "data": {
            "text/plain": []
          },
          "metadata": {},
          "execution_count": 23
        }
      ]
    },
    {
      "cell_type": "code",
      "source": [],
      "metadata": {
        "id": "0KKwCmiAX8s8"
      },
      "execution_count": 15,
      "outputs": []
    },
    {
      "cell_type": "code",
      "source": [],
      "metadata": {
        "id": "Fu8LvL4mX8qo"
      },
      "execution_count": null,
      "outputs": []
    },
    {
      "cell_type": "code",
      "source": [],
      "metadata": {
        "id": "vh-OgY7KX8oh"
      },
      "execution_count": null,
      "outputs": []
    },
    {
      "cell_type": "code",
      "source": [],
      "metadata": {
        "id": "FnAGzGN6X8l8"
      },
      "execution_count": null,
      "outputs": []
    }
  ]
}